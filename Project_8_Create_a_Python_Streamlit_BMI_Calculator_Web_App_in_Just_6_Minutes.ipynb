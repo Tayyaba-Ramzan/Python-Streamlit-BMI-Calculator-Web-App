{
  "nbformat": 4,
  "nbformat_minor": 0,
  "metadata": {
    "colab": {
      "provenance": [],
      "authorship_tag": "ABX9TyOrRoedzdOter4bcfM8q+qA",
      "include_colab_link": true
    },
    "kernelspec": {
      "name": "python3",
      "display_name": "Python 3"
    },
    "language_info": {
      "name": "python"
    }
  },
  "cells": [
    {
      "cell_type": "markdown",
      "metadata": {
        "id": "view-in-github",
        "colab_type": "text"
      },
      "source": [
        "<a href=\"https://colab.research.google.com/github/Tayyaba-Ramzan/Python-Streamlit-BMI-Calculator-Web-App-in-Just-6-Minutes/blob/main/Project_8_Create_a_Python_Streamlit_BMI_Calculator_Web_App_in_Just_6_Minutes.ipynb\" target=\"_parent\"><img src=\"https://colab.research.google.com/assets/colab-badge.svg\" alt=\"Open In Colab\"/></a>"
      ]
    },
    {
      "cell_type": "markdown",
      "source": [
        "# ***Project 8: Create a Python Streamlit BMI Calculator Web App in Just 6 Minutes***"
      ],
      "metadata": {
        "id": "7Tb2sT3-bGDQ"
      }
    },
    {
      "cell_type": "code",
      "source": [
        "%%writefile app.py\n",
        "import streamlit as st\n",
        "import matplotlib.pyplot as plt\n",
        "import numpy as np\n",
        "\n",
        "# Function to calculate BMI\n",
        "def calculate_bmi(weight, height):\n",
        "    try:\n",
        "        bmi = weight / (height ** 2)\n",
        "        return round(bmi, 2)\n",
        "    except ZeroDivisionError:\n",
        "        return \"Height cannot be zero.\"\n",
        "\n",
        "# Function to determine BMI category and health suggestions\n",
        "def get_bmi_category(bmi):\n",
        "    if bmi < 18.5:\n",
        "        category = 'Underweight'\n",
        "        suggestion = \"Try to include more nutrient-rich foods in your diet.\"\n",
        "    elif 18.5 <= bmi < 24.9:\n",
        "        category = 'Normal weight'\n",
        "        suggestion = \"Keep up the good work! Maintain a balanced diet and regular exercise.\"\n",
        "    elif 25 <= bmi < 29.9:\n",
        "        category = 'Overweight'\n",
        "        suggestion = \"Consider adjusting your diet and incorporating regular physical activity.\"\n",
        "    else:\n",
        "        category = 'Obesity'\n",
        "        suggestion = \"Consult a healthcare professional for a personalized health plan.\"\n",
        "\n",
        "    return category, suggestion\n",
        "\n",
        "# Function to display BMI result graphically\n",
        "def plot_bmi_graph(bmi):\n",
        "    labels = ['Underweight', 'Normal weight', 'Overweight', 'Obesity']\n",
        "    values = [18.5, 24.9, 29.9, 40]\n",
        "\n",
        "    fig, ax = plt.subplots()\n",
        "    ax.barh(labels, values, color=['#ffcccb', '#98fb98', '#ffcc00', '#ff6347'])\n",
        "\n",
        "    # Adding the BMI marker\n",
        "    ax.text(bmi, 2, f'Your BMI: {bmi}', va='center', ha='left', fontsize=12, color='black', fontweight='bold')\n",
        "\n",
        "    ax.set_xlim(0, 40)\n",
        "    ax.set_title(\"BMI Categories\")\n",
        "    ax.set_xlabel(\"BMI Value\")\n",
        "\n",
        "    st.pyplot(fig)\n",
        "\n",
        "# Streamlit App\n",
        "def app():\n",
        "    st.title(\"🔥 PRO BMI Calculator Web App 🔥\")\n",
        "\n",
        "    # Display a sidebar with user info\n",
        "    st.sidebar.header(\"User Info\")\n",
        "    name = st.sidebar.text_input(\"Enter your name:\")\n",
        "    age = st.sidebar.number_input(\"Enter your age:\", min_value=0, max_value=120, value=25)\n",
        "\n",
        "    st.sidebar.subheader(\"Enter your details:\")\n",
        "    weight = st.number_input(\"Weight (kg):\", min_value=1.0, step=0.1)\n",
        "    height = st.number_input(\"Height (m):\", min_value=0.1, step=0.01)\n",
        "\n",
        "    if st.button(\"Calculate BMI\"):\n",
        "        if weight > 0 and height > 0:\n",
        "            bmi = calculate_bmi(weight, height)\n",
        "            category, suggestion = get_bmi_category(bmi)\n",
        "\n",
        "            # Display the result\n",
        "            st.subheader(f\"Hello {name}, Your BMI is: {bmi}\")\n",
        "            st.write(f\"Category: {category}\")\n",
        "            st.write(f\"Suggestion: {suggestion}\")\n",
        "\n",
        "            # Plot the BMI category graph\n",
        "            plot_bmi_graph(bmi)\n",
        "\n",
        "            # Store the result in history (in memory for now)\n",
        "            if \"history\" not in st.session_state:\n",
        "                st.session_state.history = []\n",
        "            st.session_state.history.append({\"Name\": name, \"Age\": age, \"BMI\": bmi, \"Category\": category})\n",
        "\n",
        "            st.success(\"Your BMI calculation is complete!\")\n",
        "        else:\n",
        "            st.error(\"Please enter valid weight and height values.\")\n",
        "\n",
        "    if st.session_state.get(\"history\"):\n",
        "        st.subheader(\"BMI Calculation History:\")\n",
        "        for record in st.session_state.history:\n",
        "            st.write(f\"Name: {record['Name']}, Age: {record['Age']}, BMI: {record['BMI']}, Category: {record['Category']}\")\n",
        "\n",
        "if __name__ == \"__main__\":\n",
        "    app()\n"
      ],
      "metadata": {
        "id": "8YMvBF8eD6ex",
        "colab": {
          "base_uri": "https://localhost:8080/"
        },
        "outputId": "d4814ce1-7577-4087-da08-8d87238b6599"
      },
      "execution_count": null,
      "outputs": [
        {
          "output_type": "stream",
          "name": "stdout",
          "text": [
            "Overwriting app.py\n"
          ]
        }
      ]
    }
  ]
}