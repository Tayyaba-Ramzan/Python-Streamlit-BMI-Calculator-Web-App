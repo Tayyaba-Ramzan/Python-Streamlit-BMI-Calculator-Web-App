{
  "cells": [
    {
      "cell_type": "markdown",
      "metadata": {
        "id": "view-in-github",
        "colab_type": "text"
      },
      "source": [
        "<a href=\"https://colab.research.google.com/github/Tayyaba-Ramzan/Python-Streamlit-BMI-Calculator-Web-App-in-Just-6-Minutes/blob/main/Project_8_Create_a_Python_Streamlit_BMI_Calculator_Web_App_in_Just_6_Minutes.ipynb\" target=\"_parent\"><img src=\"https://colab.research.google.com/assets/colab-badge.svg\" alt=\"Open In Colab\"/></a>"
      ]
    },
    {
      "cell_type": "code",
      "source": [
        "%%writefile app.py\n",
        "import streamlit as st\n",
        "import matplotlib.pyplot as plt\n",
        "import numpy as np\n",
        "\n",
        "# Function to calculate BMI\n",
        "def calculate_bmi(weight, height):\n",
        "    try:\n",
        "        bmi = weight / (height ** 2)\n",
        "        return round(bmi, 2)\n",
        "    except ZeroDivisionError:\n",
        "        return \"Height cannot be zero.\"\n",
        "\n",
        "# Function to determine BMI category and health suggestions\n",
        "def get_bmi_category(bmi):\n",
        "    if bmi < 18.5:\n",
        "        category = 'Underweight 🦵'\n",
        "        suggestion = \"Try to include more nutrient-rich foods in your diet. 🍲\"\n",
        "    elif 18.5 <= bmi < 24.9:\n",
        "        category = 'Normal weight 💪'\n",
        "        suggestion = \"Keep up the good work! Maintain a balanced diet and regular exercise. 🏋️‍♀️\"\n",
        "    elif 25 <= bmi < 29.9:\n",
        "        category = 'Overweight 🐘'\n",
        "        suggestion = \"Consider adjusting your diet and incorporating regular physical activity. 🚶‍♀️\"\n",
        "    else:\n",
        "        category = 'Obesity 🍔'\n",
        "        suggestion = \"Consult a healthcare professional for a personalized health plan. 🩺\"\n",
        "\n",
        "    return category, suggestion\n",
        "\n",
        "# Function to display BMI result graphically\n",
        "def plot_bmi_graph(bmi):\n",
        "    labels = ['Underweight', 'Normal weight', 'Overweight', 'Obesity']\n",
        "    values = [18.5, 24.9, 29.9, 40]\n",
        "\n",
        "    fig, ax = plt.subplots(figsize=(10, 7))\n",
        "    ax.barh(labels, values, color=['#ffcccb', '#98fb98', '#ffcc00', '#ff6347'], edgecolor='black', height=0.8)\n",
        "\n",
        "    # Adding the BMI marker\n",
        "    ax.text(bmi, 2, f'Your BMI: {bmi}', va='center', ha='left', fontsize=12, color='black', fontweight='bold')\n",
        "\n",
        "    ax.set_xlim(0, 40)\n",
        "    ax.set_title(\"BMI Categories 📊\", fontsize=16, fontweight='bold', color='purple')\n",
        "    ax.set_xlabel(\"BMI Value\", fontsize=14, color='green')\n",
        "    ax.set_ylabel(\"Category\", fontsize=14, color='blue')\n",
        "\n",
        "    # Adding gridlines for better clarity\n",
        "    ax.grid(True, linestyle='--', alpha=0.5)\n",
        "\n",
        "    # Make the labels stand out\n",
        "    for tick in ax.get_xticklabels():\n",
        "        tick.set_fontsize(12)\n",
        "        tick.set_fontweight('bold')\n",
        "        tick.set_color('black')\n",
        "\n",
        "    st.pyplot(fig)\n",
        "\n",
        "# Streamlit App\n",
        "def app():\n",
        "    st.set_page_config(page_title=\"BMI Calculator\", page_icon=\"⚖️\", layout=\"wide\")\n",
        "\n",
        "    st.title(\"⚖️ **BMI Calculator Web App** ⚖️\")\n",
        "    st.markdown(\"Welcome to the most advanced BMI Calculator! Let's get started. 🚀\")\n",
        "\n",
        "     # Display a sidebar with user info\n",
        "    st.sidebar.header(\"👤 User Info\")\n",
        "    name = st.sidebar.text_input(\"Enter your name:\")\n",
        "    age = st.sidebar.number_input(\"Enter your age:\", min_value=0, max_value=120, value=25)\n",
        "\n",
        "    # Gender selection\n",
        "    gender = st.sidebar.radio(\"Select Gender:\", [\"Male\", \"Female\"])\n",
        "\n",
        "    st.sidebar.subheader(\"📏 Enter your details:\")\n",
        "    weight = st.number_input(\"Weight (kg):\", min_value=1.0, step=0.1)\n",
        "    height_cm = st.number_input(\"Height (cm):\", min_value=1.0, step=1.0)\n",
        "\n",
        "    # Convert cm to meters\n",
        "    if height_cm > 0:\n",
        "        height = height_cm / 100  # Convert cm to meters\n",
        "\n",
        "    if st.button(\"🔎 Calculate BMI\"):\n",
        "        if weight > 0 and height > 0:\n",
        "            bmi = calculate_bmi(weight, height)\n",
        "            category, suggestion = get_bmi_category(bmi)\n",
        "\n",
        "            # Display the result\n",
        "            st.subheader(f\"Hello {name}, Your BMI is: {bmi} 🏆\")\n",
        "            st.write(f\"Category: {category}\")\n",
        "            st.write(f\"Suggestion: {suggestion}\")\n",
        "\n",
        "            # Plot the BMI category graph\n",
        "            plot_bmi_graph(bmi)\n",
        "\n",
        "            # Store the result in history (in memory for now)\n",
        "            if \"history\" not in st.session_state:\n",
        "                st.session_state.history = []\n",
        "            st.session_state.history.append({\"Name\": name, \"Age\": age, \"BMI\": bmi, \"Category\": category})\n",
        "\n",
        "            st.success(\"Your BMI calculation is complete! 🎉\")\n",
        "            st.write(\"Triggering Balloons...\")\n",
        "            st.balloons()\n",
        "        else:\n",
        "            st.error(\"Please enter valid weight and height values. ⚠️\")\n",
        "\n",
        "    if st.session_state.get(\"history\"):\n",
        "        st.subheader(\"🧾 BMI Calculation History:\")\n",
        "        for record in st.session_state.history:\n",
        "            st.write(f\"Name: {record['Name']}, Age: {record['Age']}, BMI: {record['BMI']}, Category: {record['Category']}\")\n",
        "\n",
        "    # Add a footer\n",
        "    st.markdown(\"---\")\n",
        "    st.markdown(\"Created with ❤️ by Tayyaba Ramzan 👩🏻‍💻\")\n",
        "\n",
        "if __name__ == \"__main__\":\n",
        "    app()\n"
      ],
      "metadata": {
        "colab": {
          "base_uri": "https://localhost:8080/"
        },
        "id": "ECb4axslMWT_",
        "outputId": "6ac45bf2-62ba-497c-91f1-aa0947f6ecf1"
      },
      "execution_count": 54,
      "outputs": [
        {
          "output_type": "stream",
          "name": "stdout",
          "text": [
            "Overwriting app.py\n"
          ]
        }
      ]
    }
  ],
  "metadata": {
    "colab": {
      "provenance": [],
      "authorship_tag": "ABX9TyPDPaOgdJBVe1HHWlcUu1fR",
      "include_colab_link": true
    },
    "kernelspec": {
      "display_name": "Python 3",
      "name": "python3"
    },
    "language_info": {
      "name": "python"
    }
  },
  "nbformat": 4,
  "nbformat_minor": 0
}